{
 "cells": [
  {
   "cell_type": "code",
   "execution_count": 1,
   "metadata": {},
   "outputs": [],
   "source": [
    "# --- Imports ---\n",
    "import matlab.engine"
   ]
  },
  {
   "cell_type": "code",
   "execution_count": 2,
   "metadata": {},
   "outputs": [],
   "source": [
    "# Start the MATLAB engine\n",
    "# eng = matlab.engine.start_matlab()\n",
    "eng = matlab.engine.start_matlab(\"-nodisplay -nosplash -nodesktop -nojvm\") # Start MATLAB without GUI (headless) for faster execution\n",
    "# eng = matlab.engine.start_matlab(\"-desktop\")\n"
   ]
  },
  {
   "cell_type": "code",
   "execution_count": 3,
   "metadata": {},
   "outputs": [
    {
     "name": "stdout",
     "output_type": "stream",
     "text": [
      "Sum of 10 and 5 is 15\n",
      "Matrix:\n",
      "     1     2     3\n",
      "     4     5     6\n",
      "     7     8     9\n",
      "\n",
      "Eigenvalues of the matrix:\n",
      "   16.1168\n",
      "   -1.1168\n",
      "   -0.0000\n",
      "\n"
     ]
    }
   ],
   "source": [
    "# --- Run MATLAB code ---\n",
    "# call function [x, y] = matlab_test(a, b)\n",
    "a = 10\n",
    "b = 5\n",
    "[x, y] = eng.matlab_test(a, b, nargout=2)"
   ]
  },
  {
   "cell_type": "code",
   "execution_count": 4,
   "metadata": {},
   "outputs": [
    {
     "data": {
      "text/plain": [
       "array([ 0.        ,  0.09983342,  0.19866933,  0.29552021,  0.38941834,\n",
       "        0.47942554,  0.56464247,  0.64421769,  0.71735609,  0.78332691,\n",
       "        0.84147098,  0.89120736,  0.93203909,  0.96355819,  0.98544973,\n",
       "        0.99749499,  0.9995736 ,  0.99166481,  0.97384763,  0.94630009,\n",
       "        0.90929743,  0.86320937,  0.8084964 ,  0.74570521,  0.67546318,\n",
       "        0.59847214,  0.51550137,  0.42737988,  0.33498815,  0.23924933,\n",
       "        0.14112001,  0.04158066, -0.05837414, -0.15774569, -0.2555411 ,\n",
       "       -0.35078323, -0.44252044, -0.52983614, -0.61185789, -0.68776616,\n",
       "       -0.7568025 , -0.81827711, -0.87157577, -0.91616594, -0.95160207,\n",
       "       -0.97753012, -0.993691  , -0.99992326, -0.99616461, -0.98245261,\n",
       "       -0.95892427, -0.92581468, -0.88345466, -0.83226744, -0.77276449,\n",
       "       -0.70554033, -0.63126664, -0.55068554, -0.46460218, -0.37387666,\n",
       "       -0.2794155 , -0.1821625 , -0.0830894 ])"
      ]
     },
     "execution_count": 4,
     "metadata": {},
     "output_type": "execute_result"
    }
   ],
   "source": [
    "# print(f\"x = {x}\")\n",
    "# print(f\"y = {y}\")\n",
    "# convert MATLAB output to Python list\n",
    "import numpy as np\n",
    "x = np.array(x)\n",
    "y = np.array(y)\n",
    "y[0]"
   ]
  },
  {
   "cell_type": "code",
   "execution_count": 5,
   "metadata": {},
   "outputs": [
    {
     "data": {
      "image/png": "[encoded data removed]",
      "text/plain": [
       "<Figure size 640x480 with 1 Axes>"
      ]
     },
     "metadata": {},
     "output_type": "display_data"
    }
   ],
   "source": [
    "import matplotlib.pyplot as plt\n",
    "plt.plot(x[0], y[0])\n",
    "plt.xlabel('x')\n",
    "plt.ylabel('sin(x)')\n",
    "plt.show()"
   ]
  },
  {
   "cell_type": "code",
   "execution_count": 6,
   "metadata": {},
   "outputs": [],
   "source": [
    "# Quit the MATLAB engine\n",
    "eng.quit()"
   ]
  },
  {
   "cell_type": "code",
   "execution_count": 7,
   "metadata": {},
   "outputs": [
    {
     "name": "stdout",
     "output_type": "stream",
     "text": [
      "Installing MATLAB Engine API for Python...\n"
     ]
    },
    {
     "name": "stderr",
     "output_type": "stream",
     "text": [
      "mkdir: /Users/bkyanjo3/build_matlab_engine: File exists\n"
     ]
    },
    {
     "ename": "CalledProcessError",
     "evalue": "Command '['mkdir', '-p', '/Users/bkyanjo3/build_matlab_engine']' returned non-zero exit status 1.",
     "output_type": "error",
     "traceback": [
      "\u001b[0;31m---------------------------------------------------------------------------\u001b[0m",
      "\u001b[0;31mCalledProcessError\u001b[0m                        Traceback (most recent call last)",
      "Cell \u001b[0;32mIn[7], line 24\u001b[0m\n\u001b[1;32m     21\u001b[0m build_dir \u001b[38;5;241m=\u001b[39m os\u001b[38;5;241m.\u001b[39mpath\u001b[38;5;241m.\u001b[39mjoin(home_dir, \u001b[38;5;124m\"\u001b[39m\u001b[38;5;124mbuild_matlab_engine\u001b[39m\u001b[38;5;124m\"\u001b[39m)\n\u001b[1;32m     23\u001b[0m \u001b[38;5;66;03m# Ensure the build directory is writable\u001b[39;00m\n\u001b[0;32m---> 24\u001b[0m \u001b[43msubprocess\u001b[49m\u001b[38;5;241;43m.\u001b[39;49m\u001b[43mrun\u001b[49m\u001b[43m(\u001b[49m\u001b[43m[\u001b[49m\u001b[38;5;124;43m\"\u001b[39;49m\u001b[38;5;124;43mmkdir\u001b[39;49m\u001b[38;5;124;43m\"\u001b[39;49m\u001b[43m,\u001b[49m\u001b[43m \u001b[49m\u001b[38;5;124;43m\"\u001b[39;49m\u001b[38;5;124;43m-p\u001b[39;49m\u001b[38;5;124;43m\"\u001b[39;49m\u001b[43m,\u001b[49m\u001b[43m \u001b[49m\u001b[43mbuild_dir\u001b[49m\u001b[43m]\u001b[49m\u001b[43m,\u001b[49m\u001b[43m \u001b[49m\u001b[43mcheck\u001b[49m\u001b[38;5;241;43m=\u001b[39;49m\u001b[38;5;28;43;01mTrue\u001b[39;49;00m\u001b[43m)\u001b[49m\n\u001b[1;32m     25\u001b[0m subprocess\u001b[38;5;241m.\u001b[39mrun([\u001b[38;5;124m\"\u001b[39m\u001b[38;5;124mchmod\u001b[39m\u001b[38;5;124m\"\u001b[39m, \u001b[38;5;124m\"\u001b[39m\u001b[38;5;124m-R\u001b[39m\u001b[38;5;124m\"\u001b[39m, \u001b[38;5;124m\"\u001b[39m\u001b[38;5;124mu+w\u001b[39m\u001b[38;5;124m\"\u001b[39m, build_dir], check\u001b[38;5;241m=\u001b[39m\u001b[38;5;28;01mTrue\u001b[39;00m)\n\u001b[1;32m     27\u001b[0m subprocess\u001b[38;5;241m.\u001b[39mrun([\u001b[38;5;124mf\u001b[39m\u001b[38;5;124m\"\u001b[39m\u001b[38;5;124mpython3\u001b[39m\u001b[38;5;124m\"\u001b[39m, \u001b[38;5;124m\"\u001b[39m\u001b[38;5;124msetup.py\u001b[39m\u001b[38;5;124m\"\u001b[39m, \u001b[38;5;124m\"\u001b[39m\u001b[38;5;124mbuild\u001b[39m\u001b[38;5;124m\"\u001b[39m, \u001b[38;5;124m\"\u001b[39m\u001b[38;5;124m--build-base=\u001b[39m\u001b[38;5;132;01m{build_dir}\u001b[39;00m\u001b[38;5;124m, install\u001b[39m\u001b[38;5;124m\"\u001b[39m], check\u001b[38;5;241m=\u001b[39m\u001b[38;5;28;01mTrue\u001b[39;00m)\n",
      "File \u001b[0;32m/opt/homebrew/Cellar/python@3.10/3.10.16/Frameworks/Python.framework/Versions/3.10/lib/python3.10/subprocess.py:526\u001b[0m, in \u001b[0;36mrun\u001b[0;34m(input, capture_output, timeout, check, *popenargs, **kwargs)\u001b[0m\n\u001b[1;32m    524\u001b[0m     retcode \u001b[38;5;241m=\u001b[39m process\u001b[38;5;241m.\u001b[39mpoll()\n\u001b[1;32m    525\u001b[0m     \u001b[38;5;28;01mif\u001b[39;00m check \u001b[38;5;129;01mand\u001b[39;00m retcode:\n\u001b[0;32m--> 526\u001b[0m         \u001b[38;5;28;01mraise\u001b[39;00m CalledProcessError(retcode, process\u001b[38;5;241m.\u001b[39margs,\n\u001b[1;32m    527\u001b[0m                                  output\u001b[38;5;241m=\u001b[39mstdout, stderr\u001b[38;5;241m=\u001b[39mstderr)\n\u001b[1;32m    528\u001b[0m \u001b[38;5;28;01mreturn\u001b[39;00m CompletedProcess(process\u001b[38;5;241m.\u001b[39margs, retcode, stdout, stderr)\n",
      "\u001b[0;31mCalledProcessError\u001b[0m: Command '['mkdir', '-p', '/Users/bkyanjo3/build_matlab_engine']' returned non-zero exit status 1."
     ]
    }
   ],
   "source": [
    "import os\n",
    "import subprocess\n",
    "\n",
    "matlab_root = \"/Applications/MATLAB_R2024a.app\"\n",
    "\n",
    "# Save the current working directory\n",
    "current_dir = os.getcwd()\n",
    "\n",
    "# Path to the setup.py script for MATLAB Engine API for Python\n",
    "setup_path = os.path.join(matlab_root, \"extern\", \"engines\", \"python\")\n",
    "assert os.path.exists(setup_path), f\"Setup path does not exist: {setup_path}\"\n",
    "\n",
    "# Change to the setup directory\n",
    "os.chdir(setup_path)\n",
    "\n",
    "# Run the setup.py script to install the MATLAB Engine API\n",
    "print(\"Installing MATLAB Engine API for Python...\")\n",
    "\n",
    "# Make the build directory in the user's home directory\n",
    "home_dir = os.path.expanduser(\"~\")\n",
    "build_dir = os.path.join(home_dir, \"build_matlab_engine\")\n",
    "\n",
    "# Ensure the build directory is writable\n",
    "subprocess.run([\"mkdir\", \"-p\", build_dir], check=True)\n",
    "subprocess.run([\"chmod\", \"-R\", \"u+w\", build_dir], check=True)\n",
    "\n",
    "subprocess.run([f\"python3\", \"setup.py\", \"build\", \"--build-base={build_dir}, install\"], check=True)\n"
   ]
  },
  {
   "cell_type": "code",
   "execution_count": 1,
   "metadata": {},
   "outputs": [
    {
     "name": "stdout",
     "output_type": "stream",
     "text": [
      "Installing MATLAB Engine API for Python...\n"
     ]
    },
    {
     "name": "stderr",
     "output_type": "stream",
     "text": [
      "error: could not create 'dist/matlabengine.egg-info': Permission denied\n"
     ]
    },
    {
     "data": {
      "text/plain": [
       "CompletedProcess(args=['python3', '/Users/bkyanjo3/da_project/Data_assimilation_project/applications/issm/matlab2python/build/setup.py', 'build', '-b', '/Users/bkyanjo3/da_project/Data_assimilation_project/applications/issm/matlab2python/build', 'bdist_egg', '-d', '/Users/bkyanjo3/da_project/Data_assimilation_project/applications/issm/matlab2python/build'], returncode=1)"
      ]
     },
     "execution_count": 1,
     "metadata": {},
     "output_type": "execute_result"
    }
   ],
   "source": [
    "import os\n",
    "import subprocess\n",
    "\n",
    "matlab_root = \"/Applications/MATLAB_R2024a.app\"\n",
    "\n",
    "# Save the current working directory\n",
    "current_dir = os.getcwd()\n",
    "\n",
    "# Path to the setup.py script for MATLAB Engine API for Python\n",
    "path_py = os.path.join(matlab_root, \"extern\", \"engines\", \"python\")\n",
    "setup_path = os.path.join(path_py, \"setup.py\")\n",
    "dist_path = os.path.join(path_py, \"dist\")\n",
    "# setup_path = os.path.join(matlab_root, \"extern\", \"engines\", \"python\", \"setup.py\")\n",
    "\n",
    "# create a new build directory\n",
    "subprocess.run([\"mkdir\", \"-p\", \"build\"], check=True)\n",
    "\n",
    "# copy the setup.py file to the build directory\n",
    "subprocess.run([\"cp\", \"-f\", setup_path, \"build\"], check=True)\n",
    "subprocess.run([\"cp\", \"-rf\" , dist_path, \"build\"], check=True)\n",
    "\n",
    "# get path to the build directory\n",
    "build_dir = os.path.join(current_dir, \"build\")\n",
    "setup_path_new = os.path.join(current_dir, \"build\", \"setup.py\")\n",
    "\n",
    "# change to the build directory\n",
    "os.chdir(path_py)\n",
    "\n",
    "# Run the setup.py script to install the MATLAB Engine API\n",
    "print(\"Installing MATLAB Engine API for Python...\")\n",
    "subprocess.run([\"python3\", setup_path_new, \"build\",\"-b\",build_dir, \"bdist_egg\", \"-d\", build_dir])\n",
    "\n",
    "\n",
    "\n",
    "# Run the setup.py script to install the MATLAB Engine API\n",
    "# subprocess.run([\"python3\", \"setup.py\", \"install\"], check=True)\n",
    "# change back to the original directory\n",
    "# os.chdir(current_dir)"
   ]
  },
  {
   "cell_type": "code",
   "execution_count": 2,
   "metadata": {},
   "outputs": [
    {
     "name": "stdout",
     "output_type": "stream",
     "text": [
      "\u001b[34mlib\u001b[m\u001b[m\n"
     ]
    }
   ],
   "source": [
    "!ls build/"
   ]
  },
  {
   "cell_type": "code",
   "execution_count": null,
   "metadata": {},
   "outputs": [],
   "source": []
  }
 ],
 "metadata": {
  "kernelspec": {
   "display_name": "firedrake",
   "language": "python",
   "name": "python3"
  },
  "language_info": {
   "codemirror_mode": {
    "name": "ipython",
    "version": 3
   },
   "file_extension": ".py",
   "mimetype": "text/x-python",
   "name": "python",
   "nbconvert_exporter": "python",
   "pygments_lexer": "ipython3",
   "version": "3.10.16"
  }
 },
 "nbformat": 4,
 "nbformat_minor": 2
}
