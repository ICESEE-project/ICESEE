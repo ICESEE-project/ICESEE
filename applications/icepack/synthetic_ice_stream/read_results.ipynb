{
 "cells": [
  {
   "cell_type": "code",
   "execution_count": null,
   "metadata": {},
   "outputs": [],
   "source": [
    "#  import libraries\n",
    "import h5py\n",
    "import os, sys\n",
    "import numpy as np\n",
    "from mpi4py import MPI\n",
    "\n",
    "# add the utils directory to path\n",
    "sys.path.insert(0, os.path.abspath('../../src/utils'))\n",
    "import tools"
   ]
  },
  {
   "cell_type": "code",
   "execution_count": null,
   "metadata": {},
   "outputs": [],
   "source": [
    "filter_type = \"true-wrong\"\n",
    "file_path = f\"results/{filter_type}-icepack.h5\"\n",
    "datasets_tw = tools.extract_datasets_from_h5(file_path)\n",
    "statevec_true = datasets_tw['statevec_true']\n",
    "statevec_nurged = datasets_tw['statevec_nurged']"
   ]
  },
  {
   "cell_type": "code",
   "execution_count": null,
   "metadata": {},
   "outputs": [],
   "source": [
    "filter_type = EnRSKF\n",
    "file_path = f\"results/{filter_type}-icepack.h5\"\n",
    "datasets = tools.extract_datasets_from_h5(file_path)\n",
    "statevec_ens_full = datasets[\"statevec_ens_full\"]\n",
    "statevec_ens_mean = datasets[\"statevec_ens_mean\"] \n",
    "statevec_bg       = datasets[\"statevec_bg\"]"
   ]
  },
  {
   "cell_type": "code",
   "execution_count": null,
   "metadata": {},
   "outputs": [],
   "source": []
  },
  {
   "cell_type": "code",
   "execution_count": null,
   "metadata": {},
   "outputs": [],
   "source": []
  }
 ],
 "metadata": {
  "kernelspec": {
   "display_name": "Python [conda env:root] *",
   "language": "python",
   "name": "conda-root-py"
  },
  "language_info": {
   "codemirror_mode": {
    "name": "ipython",
    "version": 3
   },
   "file_extension": ".py",
   "mimetype": "text/x-python",
   "name": "python",
   "nbconvert_exporter": "python",
   "pygments_lexer": "ipython3",
   "version": "3.9.12"
  }
 },
 "nbformat": 4,
 "nbformat_minor": 2
}
