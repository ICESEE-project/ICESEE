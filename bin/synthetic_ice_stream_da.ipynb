{
 "cells": [
  {
   "cell_type": "code",
   "execution_count": 1,
   "metadata": {},
   "outputs": [],
   "source": [
    "# =============================================================================\n",
    "# @author: Brian Kyanjo\n",
    "# @date: 2024-11-06\n",
    "# @description: Synthetic ice stream with data assimilation\n",
    "# ============================================================================="
   ]
  },
  {
   "cell_type": "code",
   "execution_count": 2,
   "metadata": {},
   "outputs": [
    {
     "name": "stderr",
     "output_type": "stream",
     "text": [
      "firedrake:WARNING OMP_NUM_THREADS is not set or is set to a value greater than 1, we suggest setting OMP_NUM_THREADS=1 to improve performance\n"
     ]
    }
   ],
   "source": [
    "# --- Synthetic ice stream example ---\n",
    "import firedrake\n",
    "import sys, os\n",
    "import jax\n",
    "import numpy as np\n",
    "import tqdm\n",
    "import matplotlib.pyplot as plt\n",
    "from scipy.stats import norm, multivariate_normal\n",
    "import copy\n",
    "\n",
    "import warnings\n",
    "warnings.filterwarnings(\"ignore\")"
   ]
  },
  {
   "cell_type": "code",
   "execution_count": 3,
   "metadata": {},
   "outputs": [
    {
     "name": "stdout",
     "output_type": "stream",
     "text": [
      "935.5600800000001 kPa\n"
     ]
    }
   ],
   "source": [
    "# --- Geometry and input data ---\n",
    "# an elongated fjord-like geometry (12km wide and 50km from the inflow boundary to the ice front)\n",
    "# Lx, Ly = 50e3, 12e3\n",
    "# nx, ny = 48, 32\n",
    "Lx, Ly = 50e2, 12e2\n",
    "nx, ny = 12, 8\n",
    "mesh = firedrake.RectangleMesh(nx, ny, Lx, Ly)\n",
    "\n",
    "Q = firedrake.FunctionSpace(mesh, \"CG\", 2)\n",
    "V = firedrake.VectorFunctionSpace(mesh, \"CG\", 2)\n",
    "\n",
    "x, y = firedrake.SpatialCoordinate(mesh)\n",
    "\n",
    "# the bedrock slopes down from 200m ABS at the inflow boundary to -400m at the terminus\n",
    "b_in, b_out = 200, -400\n",
    "b = firedrake.interpolate(b_in - (b_in - b_out) * x / Lx, Q)\n",
    "\n",
    "s_in, s_out = 850, 50\n",
    "s0 = firedrake.interpolate(s_in - (s_in - s_out) * x / Lx, Q)\n",
    "\n",
    "h0 = firedrake.interpolate(s0 - b, Q)\n",
    "\n",
    "# --- Evaluate the driving stress ---\n",
    "from icepack.constants import (\n",
    "    ice_density as rho_I,\n",
    "    water_density as rho_W,\n",
    "    gravity as g,\n",
    ")\n",
    "\n",
    "h_in = s_in - b_in\n",
    "ds_dx = (s_out - s_in) / Lx\n",
    "tau_D = -rho_I * g * h_in * ds_dx\n",
    "print(f\"{1000*tau_D} kPa\")\n",
    "\n",
    "# --- Guess for the initial velocity ---\n",
    "u_in, u_out = 20, 2400\n",
    "velocity_x = u_in + (u_out - u_in) * (x / Lx) ** 2\n",
    "u0 = firedrake.interpolate(firedrake.as_vector((velocity_x, 0)), V)\n",
    "\n",
    "# --- Choosing the friciton coefficient ---\n",
    "import icepack\n",
    "\n",
    "T = firedrake.Constant(255.0)\n",
    "A = icepack.rate_factor(T)\n",
    "\n",
    "from icepack.constants import weertman_sliding_law as m\n",
    "\n",
    "expr = (0.95 - 0.05 * x / Lx) * tau_D / u_in**(1 / m)\n",
    "C = firedrake.interpolate(expr, Q)\n",
    "\n",
    "p_W = rho_W * g * firedrake.max_value(0, h0 - s0)\n",
    "p_I = rho_I * g * h0\n",
    "phi = 1 - p_W / p_I\n",
    "\n",
    "# --- Define the friction law ---\n",
    "import icepack.models.friction\n",
    "\n",
    "# wrapper fuction around the default parametisation\n",
    "def weertman_friction_with_ramp(**kwargs):\n",
    "    u = kwargs[\"velocity\"]\n",
    "    h = kwargs[\"thickness\"]\n",
    "    s = kwargs[\"surface\"]\n",
    "    C = kwargs[\"friction\"]\n",
    "\n",
    "    p_W = rho_W * g * firedrake.max_value(0, h - s)\n",
    "    p_I = rho_I * g * h\n",
    "    phi = 1 - p_W / p_I\n",
    "    return icepack.models.friction.bed_friction(\n",
    "        velocity = u,\n",
    "        friction = C*phi,\n",
    "    )\n",
    "\n",
    "# --- Define the model ---\n",
    "model_weertman = icepack.models.IceStream(friction = weertman_friction_with_ramp)\n",
    "opts = {\"dirichlet_ids\": [1], \"side_wall_ids\": [3,4]}\n",
    "solver_weertman = icepack.solvers.FlowSolver(model_weertman, **opts)\n",
    "\n",
    "u0 = solver_weertman.diagnostic_solve(\n",
    "                            velocity = u0,\n",
    "                            thickness = h0,\n",
    "                            surface = s0,\n",
    "                            fluidity = A,\n",
    "                            friction = C\n",
    ")\n",
    "\n",
    "from firedrake import sqrt, inner\n",
    "\n",
    "expr = -1e3*C*phi*sqrt(inner(u0, u0))**(1/m-1)*u0\n",
    "tau_b = firedrake.interpolate(expr, V)\n",
    "\n",
    "a_in = firedrake.Constant(1.7)\n",
    "da = firedrake.Constant(-2.7)\n",
    "a  = firedrake.interpolate(a_in + da * x / Lx, Q)\n",
    "\n",
    "h = h0.copy(deepcopy=True)\n",
    "u = u0.copy(deepcopy=True)\n"
   ]
  },
  {
   "cell_type": "code",
   "execution_count": 4,
   "metadata": {},
   "outputs": [],
   "source": [
    "# set variables and parameters\n",
    "num_years = 100\n",
    "timesteps_per_year = 1\n",
    "dt = 1.0 / timesteps_per_year\n",
    "num_timesteps = num_years * timesteps_per_year\n",
    "t = np.linspace(0, num_years, num_timesteps + 1)\n",
    "\n",
    "# Dimension of model state\n",
    "num_state_vars = 3\n",
    "hdim = h0.dat.data.size\n",
    "nd = num_state_vars * hdim\n",
    "\n",
    "sig_model = 1e-1\n",
    "sig_obs   = 1e-2\n",
    "sig_Q     = 1e-2\n",
    "\n",
    "Cov_model = sig_model**2 * np.eye(nd) # model error covariance\n",
    "Q_err     = sig_Q**2 * np.eye(nd)     # process noise covariance\n",
    "\n",
    "N = 30      # ensemble size\n",
    "m_obs = 10  # number of observations\n",
    "freq_obs = 1.5\n",
    "ind_m = (np.linspace(int(freq_obs/dt),int(num_timesteps),m_obs)).astype(int)\n",
    "t_m = t[ind_m] # time instatnces of observations\n",
    "\n",
    "inflation_factor = 1.05\n",
    "\n",
    "params = {\"nt\": num_timesteps,\n",
    "           \"dt\":dt, \"num_state_vars\":num_state_vars,\n",
    "           \"nd\":nd, \"sig_model\":sig_model,\n",
    "           \"sig_obs\":sig_obs, \"sig_Q\":sig_Q, \"Nens\":N,\n",
    "           \"m_obs\":m_obs, \"inflation_factor\":inflation_factor,\n",
    "           \"nt_m\": m_obs,'dt_m':freq_obs, 'ind_m':ind_m, 't_m':t_m}"
   ]
  },
  {
   "cell_type": "code",
   "execution_count": 5,
   "metadata": {},
   "outputs": [
    {
     "name": "stderr",
     "output_type": "stream",
     "text": [
      "100%|██████████| 100/100 [00:10<00:00,  9.30it/s]\n"
     ]
    }
   ],
   "source": [
    "# --- true state ---\n",
    "sys.path.insert(0,'../src/models')\n",
    "from icepack_model.run_icepack_da import generate_true_state\n",
    "\n",
    "statevec_true = np.zeros([params[\"nd\"],params[\"nt\"]+1])\n",
    "solver = solver_weertman\n",
    "\n",
    "kwargs = {\"a\":a, \"h0\":h0, \"u0\":u0, \"C\":C, \"A\":A,\"Q\":Q,\"V\":V,\n",
    "          \"b\":b, \"dt\":dt}\n",
    "statevec_true = generate_true_state(solver,statevec_true,params,**kwargs)\n"
   ]
  },
  {
   "cell_type": "code",
   "execution_count": 6,
   "metadata": {},
   "outputs": [],
   "source": [
    "# --- Observations ---\n",
    "sys.path.insert(0,'../src/utils')\n",
    "\n",
    "from utils import UtilsFunctions\n",
    "utils_funs = UtilsFunctions(params,statevec_true)\n",
    "\n",
    "# create synthetic observations\n",
    "hu_obs = utils_funs._create_synthetic_observations(statevec_true)\n",
    "# hu_obs"
   ]
  },
  {
   "cell_type": "code",
   "execution_count": 7,
   "metadata": {},
   "outputs": [],
   "source": [
    "# --- initialize the ensemble ---\n",
    "statevec_bg         = np.zeros([params[\"nd\"],params[\"nt\"]+1])\n",
    "statevec_ens_mean   = np.zeros_like(statevec_bg)\n",
    "statevec_ens        = np.zeros([params[\"nd\"],params[\"Nens\"]])\n",
    "statevec_ens_full   = np.zeros([params[\"nd\"],params[\"Nens\"],params[\"nt\"]+1])\n",
    "\n",
    "from icepack_model.run_icepack_da import initialize_ensemble\n",
    "\n",
    "statevec_bg, statevec_ens, statevec_ens_mean, statevec_ens_full = initialize_ensemble(statevec_bg, statevec_ens, statevec_ens_mean, statevec_ens_full, Cov_model, params,**kwargs)\n"
   ]
  },
  {
   "cell_type": "code",
   "execution_count": 8,
   "metadata": {},
   "outputs": [
    {
     "name": "stderr",
     "output_type": "stream",
     "text": [
      "  5%|▌         | 5/100 [01:12<20:41, 13.06s/it]"
     ]
    }
   ],
   "source": [
    "# --- Run the model with Data Assimilation ---\n",
    "sys.path.insert(0,'../src/run_model_da')\n",
    "from run_models_da import run_model_with_filter\n",
    "\n",
    "model_name   = \"icepack\"\n",
    "model_solver = solver_weertman\n",
    "filter_type  = \"EnKF\"\n",
    "\n",
    "da_args = [params, Q_err, hu_obs, statevec_ens, statevec_bg, statevec_ens_mean, statevec_ens_full]\n",
    "statevec_ens_full, statevec_ens_mean, statevec_bg = run_model_with_filter(model_name, model_solver, filter_type, *da_args, **kwargs)"
   ]
  },
  {
   "cell_type": "code",
   "execution_count": null,
   "metadata": {},
   "outputs": [],
   "source": []
  }
 ],
 "metadata": {
  "kernelspec": {
   "display_name": "firedrake",
   "language": "python",
   "name": "python3"
  },
  "language_info": {
   "codemirror_mode": {
    "name": "ipython",
    "version": 3
   },
   "file_extension": ".py",
   "mimetype": "text/x-python",
   "name": "python",
   "nbconvert_exporter": "python",
   "pygments_lexer": "ipython3",
   "version": "3.9.6"
  }
 },
 "nbformat": 4,
 "nbformat_minor": 2
}
