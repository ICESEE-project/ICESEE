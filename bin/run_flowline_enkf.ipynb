{
 "cells": [
  {
   "cell_type": "code",
   "execution_count": 1,
   "metadata": {},
   "outputs": [],
   "source": [
    "# =============================================================================\n",
    "# bin/run_model.py\n",
    "# @author: Brian Kyanjo\n",
    "# @date: 2024-09-24\n",
    "# @description: This script runs the flowline model using the EnKF data assimilation scheme.\n",
    "# ============================================================================="
   ]
  },
  {
   "cell_type": "code",
   "execution_count": 1,
   "metadata": {},
   "outputs": [],
   "source": [
    "# import libraries ========\n",
    "import os\n",
    "import sys\n",
    "import jax\n",
    "import warnings\n",
    "import numpy as np\n",
    "import jax.numpy as jnp\n",
    "import matplotlib.pyplot as plt\n",
    "from scipy.optimize import root\n",
    "from scipy.stats import norm, multivariate_normal\n",
    "\n",
    "warnings.filterwarnings(\"ignore\")\n",
    "jax.config.update(\"jax_enable_x64\", True) # Set the precision in JAX to use float64"
   ]
  },
  {
   "cell_type": "code",
   "execution_count": 2,
   "metadata": {},
   "outputs": [
    {
     "ename": "ModuleNotFoundError",
     "evalue": "No module named 'src.EnKF'",
     "output_type": "error",
     "traceback": [
      "\u001b[0;31m---------------------------------------------------------------------------\u001b[0m",
      "\u001b[0;31mModuleNotFoundError\u001b[0m                       Traceback (most recent call last)",
      "Cell \u001b[0;32mIn[2], line 8\u001b[0m\n\u001b[1;32m      6\u001b[0m \u001b[38;5;66;03m# import the necessary modules ========\u001b[39;00m\n\u001b[1;32m      7\u001b[0m \u001b[38;5;28;01mfrom\u001b[39;00m \u001b[38;5;21;01mconfig\u001b[39;00m\u001b[38;5;21;01m.\u001b[39;00m\u001b[38;5;21;01mconfig_loader\u001b[39;00m \u001b[38;5;28;01mimport\u001b[39;00m ParamsLoader\n\u001b[0;32m----> 8\u001b[0m \u001b[38;5;28;01mfrom\u001b[39;00m \u001b[38;5;21;01msrc\u001b[39;00m\u001b[38;5;21;01m.\u001b[39;00m\u001b[38;5;21;01mEnKF\u001b[39;00m\u001b[38;5;21;01m.\u001b[39;00m\u001b[38;5;21;01mpython_enkf\u001b[39;00m\u001b[38;5;21;01m.\u001b[39;00m\u001b[38;5;21;01menkf_class_python\u001b[39;00m \u001b[38;5;28;01mimport\u001b[39;00m EnsembleKalmanFilter\n",
      "\u001b[0;31mModuleNotFoundError\u001b[0m: No module named 'src.EnKF'"
     ]
    }
   ],
   "source": [
    "# get the current working directory\n",
    "current_dir = os.getcwd()\n",
    "os.chdir(\"../\")\n",
    "sys.path.append(os.getcwd()) # add the current directory to the system path\n",
    "\n",
    "# import the necessary modules ========\n",
    "from config.config_loader import ParamsLoader\n",
    "from src.EnKF.python_enkf.enkf_class_python import EnsembleKalmanFilter\n"
   ]
  },
  {
   "cell_type": "code",
   "execution_count": 3,
   "metadata": {},
   "outputs": [
    {
     "name": "stdout",
     "output_type": "stream",
     "text": [
      "/Users/mathadmin/da_project/Data_assimilation_project\n"
     ]
    }
   ],
   "source": [
    "!pwd\n"
   ]
  },
  {
   "cell_type": "code",
   "execution_count": 4,
   "metadata": {},
   "outputs": [
    {
     "ename": "ModuleNotFoundError",
     "evalue": "No module named 'config_loader'",
     "output_type": "error",
     "traceback": [
      "\u001b[0;31m---------------------------------------------------------------------------\u001b[0m",
      "\u001b[0;31mModuleNotFoundError\u001b[0m                       Traceback (most recent call last)",
      "Cell \u001b[0;32mIn[4], line 13\u001b[0m\n\u001b[1;32m     10\u001b[0m sys\u001b[38;5;241m.\u001b[39mpath\u001b[38;5;241m.\u001b[39mappend(config_dir)\n\u001b[1;32m     12\u001b[0m \u001b[38;5;66;03m# Now you can import from config\u001b[39;00m\n\u001b[0;32m---> 13\u001b[0m \u001b[38;5;28;01mfrom\u001b[39;00m \u001b[38;5;21;01mconfig_loader\u001b[39;00m \u001b[38;5;28;01mimport\u001b[39;00m ParamsLoader\n\u001b[1;32m     15\u001b[0m \u001b[38;5;66;03m# Load the parameters from the YAML file into a dictionary\u001b[39;00m\n\u001b[1;32m     16\u001b[0m params_loader \u001b[38;5;241m=\u001b[39m ParamsLoader(\u001b[38;5;124m\"\u001b[39m\u001b[38;5;124mconfig/params.yaml\u001b[39m\u001b[38;5;124m\"\u001b[39m)\n",
      "\u001b[0;31mModuleNotFoundError\u001b[0m: No module named 'config_loader'"
     ]
    }
   ],
   "source": [
    "# Add the root directory (parent directory of 'bin') to the path\n",
    "# sys.path.append(os.path.abspath(os.path.join(os.path.dirname(__file__), '..')))\n",
    "\n",
    "# \n",
    "\n",
    "\n",
    "\n",
    "# Get the current working directory (where the notebook is running from)\n",
    "current_dir = os.getcwd()\n",
    "\n",
    "# Assuming 'config' is in the same directory as the notebook\n",
    "config_dir = os.path.join(current_dir, 'config')\n",
    "\n",
    "# Add the config directory to the Python path\n",
    "sys.path.append(config_dir)\n",
    "\n",
    "# Now you can import from config\n",
    "from config_loader import ParamsLoader\n",
    "\n",
    "# Load the parameters from the YAML file into a dictionary\n",
    "params_loader = ParamsLoader(\"config/params.yaml\")\n",
    "params = params_loader.get_params()"
   ]
  },
  {
   "cell_type": "code",
   "execution_count": null,
   "metadata": {},
   "outputs": [],
   "source": [
    "# Now `params` is a dictionary and you can access it as you did before\n",
    "print(\"A:\", params[\"A\"])\n",
    "print(\"uscale:\", params[\"uscale\"])\n",
    "print(\"Grid sigma values:\", params[\"grid\"][\"sigma\"])\n"
   ]
  }
 ],
 "metadata": {
  "kernelspec": {
   "display_name": "base",
   "language": "python",
   "name": "python3"
  },
  "language_info": {
   "codemirror_mode": {
    "name": "ipython",
    "version": 3
   },
   "file_extension": ".py",
   "mimetype": "text/x-python",
   "name": "python",
   "nbconvert_exporter": "python",
   "pygments_lexer": "ipython3",
   "version": "3.9.10"
  }
 },
 "nbformat": 4,
 "nbformat_minor": 2
}
