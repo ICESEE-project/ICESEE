{
 "cells": [
  {
   "cell_type": "code",
   "execution_count": 1,
   "metadata": {},
   "outputs": [],
   "source": [
    "# =============================================================================\n",
    "# bin/run_model.py\n",
    "# @author: Brian Kyanjo\n",
    "# @date: 2024-09-24\n",
    "# @description: This script runs the flowline model using the EnKF data assimilation scheme.\n",
    "# ============================================================================="
   ]
  },
  {
   "cell_type": "code",
   "execution_count": 2,
   "metadata": {},
   "outputs": [],
   "source": [
    "# import libraries ========\n",
    "import os\n",
    "import sys\n",
    "import jax\n",
    "import warnings\n",
    "import numpy as np\n",
    "import jax.numpy as jnp\n",
    "import matplotlib.pyplot as plt\n",
    "from scipy.optimize import root\n",
    "from scipy.stats import norm, multivariate_normal\n",
    "\n",
    "warnings.filterwarnings(\"ignore\")\n",
    "jax.config.update(\"jax_enable_x64\", True) # Set the precision in JAX to use float64"
   ]
  },
  {
   "cell_type": "code",
   "execution_count": 3,
   "metadata": {},
   "outputs": [],
   "source": [
    "# Add the parent and `src` directories to sys.path if needed\n",
    "for path in [os.path.abspath('..'), os.path.abspath('../src')]:\n",
    "    if path not in sys.path:\n",
    "        sys.path.insert(0, path)\n",
    "\n",
    "# Import necessary modules\n",
    "from config.config_loader import ParamsLoader\n",
    "from EnKF.python_enkf.enkf_class_python import EnsembleKalmanFilter\n",
    "from utils.utils import UtilsFunctions\n",
    "\n",
    "config_path = os.path.join(os.getcwd(), '../config', 'params.yaml') "
   ]
  },
  {
   "cell_type": "code",
   "execution_count": 4,
   "metadata": {},
   "outputs": [
    {
     "data": {
      "text/plain": [
       "Array(1.11111111, dtype=float64, weak_type=True)"
      ]
     },
     "execution_count": 4,
     "metadata": {},
     "output_type": "execute_result"
    }
   ],
   "source": [
    "# Initial setup from the config file and initial guess ---------------\n",
    "params = ParamsLoader(config_path).get_params()\n",
    "grid = params['grid']\n",
    "\n",
    "# Create an instance of UtilsFunctions with params\n",
    "utils_functions = UtilsFunctions(params)\n",
    "\n",
    "# Initial guess and steady state ====================\n",
    "xg = 300e3 / params[\"xscale\"]\n",
    "hf = (-utils_functions.bed(xg * params[\"xscale\"]) / params[\"hscale\"]) / (1 - params[\"lambda\"])\n",
    "hf\n",
    "\n",
    "\n",
    "# hf = (-UtilsFunctions.bed(x, params) / params[\"hscale\"]) / (1 - params[\"lambda\"])\n",
    "# hf = (-UtilsFunctions.bed(xg * params[\"xscale\"], params) / params[\"hscale\"]) / (1 - params[\"lambda\"])\n",
    "# h  = 1 - (1 - hf) * grid[\"sigma\"]\n",
    "# u  = 1.0 * (grid[\"sigma_elem\"] ** (1 / 3)) + 1e-3\n",
    "# huxg_old = np.concatenate((h, u, [xg]))\n",
    "\n",
    "# huxg_old"
   ]
  },
  {
   "cell_type": "code",
   "execution_count": 5,
   "metadata": {},
   "outputs": [
    {
     "data": {
      "text/plain": [
       "500"
      ]
     },
     "execution_count": 5,
     "metadata": {},
     "output_type": "execute_result"
    }
   ],
   "source": [
    "params['sillamp']"
   ]
  },
  {
   "cell_type": "code",
   "execution_count": null,
   "metadata": {},
   "outputs": [],
   "source": []
  }
 ],
 "metadata": {
  "kernelspec": {
   "display_name": "base",
   "language": "python",
   "name": "python3"
  },
  "language_info": {
   "codemirror_mode": {
    "name": "ipython",
    "version": 3
   },
   "file_extension": ".py",
   "mimetype": "text/x-python",
   "name": "python",
   "nbconvert_exporter": "python",
   "pygments_lexer": "ipython3",
   "version": "3.9.10"
  }
 },
 "nbformat": 4,
 "nbformat_minor": 2
}
