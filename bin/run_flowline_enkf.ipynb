{
 "cells": [
  {
   "cell_type": "code",
   "execution_count": 1,
   "metadata": {},
   "outputs": [],
   "source": [
    "# =============================================================================\n",
    "# bin/run_model.py\n",
    "# @author: Brian Kyanjo\n",
    "# @date: 2024-09-24\n",
    "# @description: This script runs the flowline model using the EnKF data assimilation scheme.\n",
    "# ============================================================================="
   ]
  },
  {
   "cell_type": "code",
   "execution_count": 2,
   "metadata": {},
   "outputs": [],
   "source": [
    "# import libraries ========\n",
    "import os\n",
    "import sys\n",
    "import jax\n",
    "import warnings\n",
    "import numpy as np\n",
    "import jax.numpy as jnp\n",
    "import matplotlib.pyplot as plt\n",
    "from scipy.optimize import root\n",
    "from scipy.stats import norm, multivariate_normal\n",
    "\n",
    "warnings.filterwarnings(\"ignore\")\n",
    "jax.config.update(\"jax_enable_x64\", True) # Set the precision in JAX to use float64"
   ]
  },
  {
   "cell_type": "code",
   "execution_count": 3,
   "metadata": {},
   "outputs": [],
   "source": [
    "# Add the parent and `src` directories to sys.path if needed\n",
    "for path in [os.path.abspath('..'), os.path.abspath('../src')]:\n",
    "    if path not in sys.path:\n",
    "        sys.path.insert(0, path)\n",
    "\n",
    "# Import necessary modules\n",
    "from config.config_loader import ParamsLoader\n",
    "from EnKF.python_enkf.enkf_class_python import EnsembleKalmanFilter\n",
    "from utils.utils import UtilsFunctions\n",
    "\n",
    "config_path = os.path.join(os.getcwd(), '../config', 'params.yaml') "
   ]
  },
  {
   "cell_type": "code",
   "execution_count": 4,
   "metadata": {},
   "outputs": [
    {
     "data": {
      "text/plain": [
       "array([1.00266118e+00, 1.00535648e+00, 1.00805177e+00, 1.01074707e+00,\n",
       "       1.01344237e+00, 1.01613767e+00, 1.01883296e+00, 1.02152826e+00,\n",
       "       1.02422356e+00, 1.02691886e+00, 1.02961415e+00, 1.03230945e+00,\n",
       "       1.03500475e+00, 1.03770005e+00, 1.04039534e+00, 1.04309064e+00,\n",
       "       1.04578594e+00, 1.04848124e+00, 1.05117653e+00, 1.05387183e+00,\n",
       "       1.05656713e+00, 1.05926242e+00, 1.06195772e+00, 1.06465302e+00,\n",
       "       1.06734832e+00, 1.07004361e+00, 1.07273891e+00, 1.07543421e+00,\n",
       "       1.07812951e+00, 1.08082480e+00, 1.08352010e+00, 1.08621540e+00,\n",
       "       1.08891070e+00, 1.09160599e+00, 1.09430129e+00, 1.09699659e+00,\n",
       "       1.09969189e+00, 1.10238718e+00, 1.10508248e+00, 1.10777778e+00,\n",
       "       1.10811111e+00, 1.10844444e+00, 1.10877778e+00, 1.10911111e+00,\n",
       "       1.10944444e+00, 1.10977778e+00, 1.11011111e+00, 1.11044444e+00,\n",
       "       1.11077778e+00, 1.11111111e+00, 1.00000000e-03, 3.31435469e-01,\n",
       "       3.93218632e-01, 4.39983204e-01, 4.78470029e-01, 5.11587765e-01,\n",
       "       5.40890053e-01, 5.67316157e-01, 5.91482408e-01, 6.13817627e-01,\n",
       "       6.34633612e-01, 6.54165014e-01, 6.72593369e-01, 6.90062350e-01,\n",
       "       7.06687842e-01, 7.22564836e-01, 7.37772284e-01, 7.52376600e-01,\n",
       "       7.66434248e-01, 7.79993679e-01, 7.93096822e-01, 8.05780226e-01,\n",
       "       8.18075974e-01, 8.30012392e-01, 8.41614636e-01, 8.52905157e-01,\n",
       "       8.63904085e-01, 8.74629547e-01, 8.85097933e-01, 8.95324114e-01,\n",
       "       9.05321632e-01, 9.15102856e-01, 9.24679118e-01, 9.34060830e-01,\n",
       "       9.43257581e-01, 9.52278226e-01, 9.61130962e-01, 9.69823390e-01,\n",
       "       9.78362576e-01, 9.86755100e-01, 9.91408293e-01, 9.92426709e-01,\n",
       "       9.93443036e-01, 9.94457286e-01, 9.95469470e-01, 9.96479597e-01,\n",
       "       9.97487678e-01, 9.98493724e-01, 9.99497744e-01, 1.00049975e+00,\n",
       "       1.78303187e+00])"
      ]
     },
     "execution_count": 4,
     "metadata": {},
     "output_type": "execute_result"
    }
   ],
   "source": [
    "# Initial setup from the config file and initial guess ---------------\n",
    "params = ParamsLoader(config_path).get_params()\n",
    "grid = params['grid']\n",
    "\n",
    "# Create an instance of UtilsFunctions with params\n",
    "utils_functions = UtilsFunctions(params)\n",
    "\n",
    "# Initial guess and steady state ====================\n",
    "xg = 300e3 / params[\"xscale\"]\n",
    "hf = (-utils_functions.bed(xg * params[\"xscale\"]) / params[\"hscale\"]) / (1 - params[\"lambda\"])\n",
    "h  = 1 - (1 - hf) * grid[\"sigma\"]\n",
    "u  = 1.0 * (grid[\"sigma_elem\"] ** (1 / 3)) + 1e-3\n",
    "huxg_old = np.concatenate((h, u, [xg]))\n",
    "\n",
    "huxg_old"
   ]
  },
  {
   "cell_type": "code",
   "execution_count": 6,
   "metadata": {},
   "outputs": [
    {
     "data": {
      "text/plain": [
       "168252.74158571838"
      ]
     },
     "execution_count": 6,
     "metadata": {},
     "output_type": "execute_result"
    }
   ],
   "source": [
    "params[\"xscale\"]"
   ]
  },
  {
   "cell_type": "code",
   "execution_count": null,
   "metadata": {},
   "outputs": [],
   "source": []
  }
 ],
 "metadata": {
  "kernelspec": {
   "display_name": "base",
   "language": "python",
   "name": "python3"
  },
  "language_info": {
   "codemirror_mode": {
    "name": "ipython",
    "version": 3
   },
   "file_extension": ".py",
   "mimetype": "text/x-python",
   "name": "python",
   "nbconvert_exporter": "python",
   "pygments_lexer": "ipython3",
   "version": "3.9.10"
  }
 },
 "nbformat": 4,
 "nbformat_minor": 2
}
